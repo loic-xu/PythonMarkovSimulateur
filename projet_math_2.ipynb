{
 "cells": [
  {
   "cell_type": "markdown",
   "id": "dd00e4df",
   "metadata": {},
   "source": [
    "# <center>Projet mathématique - Partie II"
   ]
  },
  {
   "cell_type": "markdown",
   "id": "7c88815d",
   "metadata": {},
   "source": [
    "## <center>Chaînes de Markov et temps d’arrêt"
   ]
  },
  {
   "cell_type": "code",
   "execution_count": 7,
   "id": "16db9e84",
   "metadata": {},
   "outputs": [],
   "source": [
    "import random\n",
    "import math\n",
    "import matplotlib.pyplot as plt\n",
    "import numpy as np"
   ]
  },
  {
   "cell_type": "code",
   "execution_count": 8,
   "id": "0b5e74cc",
   "metadata": {},
   "outputs": [],
   "source": [
    "def sim_dis(p, x, M):\n",
    "    y = []\n",
    "    for i in range(M):\n",
    "        j = 0\n",
    "        S = p[0]\n",
    "        u = np.random.uniform(0, 1)\n",
    "        while u > S:\n",
    "            j += 1\n",
    "            S += p[j]\n",
    "        y.append(x[j])\n",
    "    return y"
   ]
  },
  {
   "cell_type": "markdown",
   "id": "a726242e",
   "metadata": {},
   "source": [
    "### Q1.(a)"
   ]
  },
  {
   "cell_type": "code",
   "execution_count": 9,
   "id": "86f3e545",
   "metadata": {},
   "outputs": [
    {
     "name": "stdout",
     "output_type": "stream",
     "text": [
      "p_tilde =  0.508\n"
     ]
    }
   ],
   "source": [
    "# Initialisation des constantes \n",
    "N = 100\n",
    "a = 10\n",
    "p = 0.5\n",
    "M = 1000\n",
    "X_0 = 5\n",
    "\n",
    "# Liste de taille M avec que des X_0\n",
    "res = [X_0 for i in range(M)]\n",
    "\n",
    "# Liste de taille M avec des booléens qui testent si la ième trajectoire a déjà atteint 'a' ou non (true pour atteint et false pour non atteint)\n",
    "condition_a = [res[i] == a for i in range(M)]\n",
    "\n",
    "# Liste de taille M avec des booléens qui testent si la ième trajectoire a déjà atteint 0 ou non (true pour atteint et false pour non atteint)\n",
    "condition_0 = [res[i] == 0 for i in range(M)]\n",
    "\n",
    "# Liste de taille M avec les tau des M trajectoires (Q1.b)\n",
    "l_tau = [0 if (res[i] == a or res[i] == 0) else (N+1) for i in range(M)]\n",
    "\n",
    "for k in range(N):\n",
    "    L = sim_dis([p, p], [-1, 1], M)\n",
    "    for i in range(M):\n",
    "        # On a pas encore atteint 'a' ou 0 pour la ième trajectoire\n",
    "        if not condition_a[i] and not condition_0[i]:\n",
    "            res[i] += L[i]\n",
    "            # On atteint 'a' donc on change True en False dans la liste condition_a à la ième position\n",
    "            if (res[i] == a):\n",
    "                condition_a[i] = True\n",
    "                # Pour la Q1.b\n",
    "                l_tau[i] = k\n",
    "\n",
    "            # On atteint 0 donc on change True en False dans la liste condition_0 à la ième position\n",
    "            if (res[i] == 0):\n",
    "                condition_0[i] = True\n",
    "                l_tau[i] = k\n",
    "\n",
    "\n",
    "# On compte le nombre de True dans la liste condition_a\n",
    "compteur = condition_a.count(True)\n",
    "p_tilde = compteur / M\n",
    "print(\"p_tilde = \", p_tilde)"
   ]
  },
  {
   "cell_type": "markdown",
   "id": "adcfa24a",
   "metadata": {},
   "source": [
    "► Pour calculer l'intervalle de confiance à 95%, on peut utiliser la formule suivante :\n",
    "$$ \\boxed{ I =\\left [\\widetilde{p}-q_{0.975} \\times \\sqrt{\\frac{\\widetilde{p}(1-\\widetilde{p})}{M}}, \\  \\widetilde{p}+q_{0.975} \\times \\sqrt{\\frac{\\widetilde{p}(1-\\widetilde{p})}{M}}\\right]}$$\n",
    "\n",
    "avec $q_\\alpha$ quantile d'ordre $\\alpha$ de la loi normale centrée réduite et donc $q_{0.975} = 1.96$ d'après la table de la loi normale centrée réduite,     \n",
    "$ M = 1000$ et $\\widetilde{p}$  la probabilité estimée précédemment"
   ]
  },
  {
   "cell_type": "markdown",
   "id": "a4b346de",
   "metadata": {},
   "source": [
    "Démonstration : (Déjà faite dans la partie I, on modélise ici seulement le problème)\n",
    "\n",
    "On pose $Y_1, ..., Y_M$ un M échantillon iid tel que $\\forall i (Y_i = 1) = (X_{\\tau} = a$ et $ \\tau \\leq N)$ et $ (Y_i = 0) = (X_{\\tau} \\neq  a $ et $ \\tau \\leq N)$.\n",
    "On remarque que chaque $Y_i$ suit une loi de Bernoulli de paramètre $\\boxed {p = \\mathbb{P}\\left( X_{\\tau} = a \\right)}$.  \n",
    "\n",
    "On pose $\\overline{Y_M}$ la moyenne empirique de l'échantillon. Puisque $E[\\overline{Y_M}] = E[Y_1] = p$ on peut prendre comme estimateur de $p$, $\\widetilde{p} = \\overline{Y_M}$\n",
    "\n",
    "D'après le théorème central limite on a par approximation pour M grand : $$ Z = \\sqrt{M} \\frac {\\overline{Y_M} - E[Y_1]} {\\sqrt{V[Y_1]}} \\sim N(0,1) $$"
   ]
  },
  {
   "cell_type": "code",
   "execution_count": 10,
   "id": "0948f395",
   "metadata": {},
   "outputs": [
    {
     "name": "stdout",
     "output_type": "stream",
     "text": [
      "Intervalle de confiance à 95% de P(X_tau = a et tau ≤ N) = [ 0.477013645945352 , 0.538986354054648 ]\n"
     ]
    }
   ],
   "source": [
    "# Calcul intervalle de confiance à 95% de P(X_tau = a et tau ≤ N)\n",
    "borne_inf_1_a = p_tilde - 1.96*np.sqrt(p_tilde*(1-p_tilde)/M)\n",
    "borne_sup_1_a = p_tilde + 1.96*np.sqrt(p_tilde*(1-p_tilde)/M)\n",
    "print(\"Intervalle de confiance à 95% de P(X_tau = a et tau ≤ N) = [\", borne_inf_1_a, \",\", borne_sup_1_a, \"]\")"
   ]
  },
  {
   "cell_type": "markdown",
   "id": "8eb270d9",
   "metadata": {},
   "source": [
    "► Valeur théorique\n",
    "\n",
    "On pose $f(x) = P(X_\\tau = a | X_0 = x)$ et $ q = 1 - p$\n",
    "\n",
    "On a $f(0) = 0$ et $f(a) = 1$\n",
    "\n",
    " Si $X_{0}=x$, pour tout $x$, $1 \\leq x \\leq a-1$, on a d'après la loi des probabilités totales et une propriété de Markov\n",
    "\n",
    "$$\n",
    "f(x)=p \\times f(x+1)+ q \\times f(x-1)\n",
    "$$\n",
    "\n",
    "L'équation caractéristique associée à cette équation de récurrence linéaire est $p r^{2}-r+q=0$. \n",
    "\n",
    "si $p \\neq q$ : l'équation a deux racines distinctes, $r_{1}=1$ et $r_{2}=\\frac{q}{p}$\n",
    "\n",
    "La solution générale est donc $f(x)=\\lambda r_{1}^{x}+\\mu r_{2}^{x}=\\lambda+\\mu\\left(\\frac{q}{p}\\right)^{x}$\n",
    "\n",
    "En utilisant les conditions initiales : \n",
    "\n",
    "$f(0) = 0$ et $f(a) = 1$ on obtient, $\\lambda + \\mu = 0 $ et $ \\lambda + \\mu {(\\frac{q}{p})}^a = 1$ \n",
    "\n",
    "donc $ \\lambda = \\frac{1}{1-{(\\frac{q}{p})}^a}$ et $ \\mu = \\frac{-1}{1-{(\\frac{q}{p})}^a}$\n",
    "\n",
    "$$\n",
    "f(x)=\\frac{1-\\left(\\frac{q}{p}\\right)^{x}}{1-\\left(\\frac{q}{p}\\right)^{a}},\n",
    "$$\n",
    "\n",
    "si $p=q=\\frac{1}{2}$ : l'équation a une racine double, $r_{1}=1$\n",
    "\n",
    "La solution générale est donc $f(x)= (\\lambda + \\mu x) r_{1}^{x}=\\lambda+\\mu x$\n",
    " \n",
    "En utilisant les conditions initiales : \n",
    "\n",
    "$$\n",
    "f(x)=\\frac{x}{a}\n",
    "$$\n",
    "\n",
    "Dans notre cas $p=q=\\frac{1}{2}$ donc pour tout $x$, $1 \\leq x \\leq a-1$\n",
    "$$ \\boxed{\n",
    "f(x)=\\frac{x}{a} }\n",
    "$$\n",
    "et $f(0) = 0$ et $f(a) = 1$\n",
    "Donc la formule fonctionne pour chaque x dans [0:10]\n",
    "\n",
    "i.e. : \n",
    "\n",
    "$$ \\boxed{\n",
    "    \\begin{aligned}\n",
    "    f(0)&=0  \\\\\n",
    "    f(1)&=\\frac{1}{10} \\\\\n",
    "    f(2)&=\\frac{2}{10} \\\\ \n",
    "    f(3)&=\\frac{3}{10} \\\\\n",
    "    f(4)&=\\frac{4}{10} \\\\\n",
    "    f(5)&=\\frac{5}{10} \\\\\n",
    "    f(6)&=\\frac{6}{10} \\\\\n",
    "    f(7)&=\\frac{7}{10} \\\\\n",
    "    f(8)&=\\frac{8}{10} \\\\\n",
    "    f(9)&=\\frac{9}{10} \\\\\n",
    "    f(10)&= 1 \n",
    "    \\end{aligned}\n",
    "}\n",
    "$$"
   ]
  },
  {
   "cell_type": "code",
   "execution_count": 11,
   "id": "e8b9499d",
   "metadata": {},
   "outputs": [
    {
     "name": "stdout",
     "output_type": "stream",
     "text": [
      "La vraie valeur de la probabilité P(X_tau = a | X_0 = 5) se trouve dans l’intervalle de confiance à 95%\n"
     ]
    }
   ],
   "source": [
    "# Vérification si la vraie valeur de la probabilité est dans l'intervalle de confiance\n",
    "\n",
    "prob_theorique_1_a = 5/10\n",
    "if prob_theorique_1_a <= borne_sup_1_a and prob_theorique_1_a >= borne_inf_1_a:\n",
    "    print(\"La vraie valeur de la probabilité P(X_tau = a | X_0 = 5) se trouve dans l’intervalle de confiance à 95%\")\n",
    "else: \n",
    "    print(\"La vraie valeur de la probabilité P(X_tau = a | X_0 = 5) ne se trouve pas dans l’intervalle de confiance à 95%\")"
   ]
  },
  {
   "cell_type": "markdown",
   "id": "5d6c225a",
   "metadata": {},
   "source": [
    "### Q1.(b)"
   ]
  },
  {
   "cell_type": "code",
   "execution_count": 12,
   "id": "79c258fe",
   "metadata": {},
   "outputs": [
    {
     "name": "stdout",
     "output_type": "stream",
     "text": [
      "tau_moyen =  24.081\n"
     ]
    }
   ],
   "source": [
    "tau_moyen = sum(l_tau) / len(l_tau)\n",
    "print(\"tau_moyen = \", tau_moyen)"
   ]
  },
  {
   "cell_type": "code",
   "execution_count": 13,
   "id": "d9d4e37e",
   "metadata": {},
   "outputs": [
    {
     "name": "stdout",
     "output_type": "stream",
     "text": [
      "Intervalle de confiance à 95% de P(X_tau = a et tau ≤ N) = [ 22.837483932281906 , 25.324516067718093 ]\n"
     ]
    }
   ],
   "source": [
    "# Calcul intervalle de confiance à 95% du tau_moyen\n",
    "somme_quadratique_1_b = 0\n",
    "for i in range(M):\n",
    "    somme_quadratique_1_b += (l_tau[i] - tau_moyen)**2\n",
    "\n",
    "variance_1_b = somme_quadratique_1_b / (M-1)\n",
    "\n",
    "borne_inf_1_b = tau_moyen - 1.96*np.sqrt(variance_1_b/M)\n",
    "borne_sup_1_b = tau_moyen + 1.96*np.sqrt(variance_1_b/M)\n",
    "print(\"Intervalle de confiance à 95% de P(X_tau = a et tau ≤ N) = [\", borne_inf_1_b, \",\", borne_sup_1_b, \"]\")"
   ]
  },
  {
   "cell_type": "markdown",
   "id": "94b2677c",
   "metadata": {},
   "source": [
    "► Valeur théorique\n",
    "\n",
    "On pose $g(x)=E\\left[T \\mid X_{0}=x\\right]$ qui vérifie cette équation qui est une suite récurrente linéaire que l'on doit résoudre :\n",
    "$$\n",
    "g(x)=1+p g(x+1)+q g(x-1)\n",
    "$$\n",
    "\n",
    "lorsque $1 \\leq x \\leq a-1$. En effet, le joueur doit jouer au moins une fois, et avec la  probabilité $p$ (resp., $q$ ) la fortune du joueur sera $x+1$ (resp., $x-1)$, et donc $g(x+1)$ (resp.,  $g(x-1))$ tours supplémentaires seront en moyenne nécessaires pour finir le jeu. Les conditions aux frontières sont $$\n",
    "g(0)=0, g(a)=0\n",
    "$$\n",
    "\n",
    "Réécrivons l'équation de récurrence sous la forme $-1=p(g(x+1)-g(x))-q(g(x)-g(i-1))$. Notant $$\n",
    "y_{x}=g(x)-g(x-1)$$ on a, pour $1 \\leq x \\leq a-1$ $$\n",
    "-1=p y_{i+1}-q y_{i}\n",
    "$$\n",
    "\n",
    "et $$\n",
    "g(x)=y_{1}+y_{2}+\\cdots+y_{x}\n",
    "$$\n",
    "\n",
    "Nous allons résoudre cette équation de récurrence avec $p=q=\\frac{1}{2}$. Pour cela, on la réécrit $$\n",
    "\\begin{aligned}\n",
    "-1 & =\\frac{1}{2} y_{2}-\\frac{1}{2} y_{1}, \\\\\n",
    "-1 & =\\frac{1}{2} y_{3}-\\frac{1}{2} y_{2}, \\\\\n",
    "& \\vdots \\\\\n",
    "-1 & =\\frac{1}{2} y_{x}-\\frac{1}{2} y_{x-1},\n",
    "\\end{aligned}\n",
    "$$\n",
    "\n",
    "et donc, en sommant, $$\n",
    "-(x-1)=\\frac{1}{2} y_{x}-\\frac{1}{2} y_{1}\n",
    "$$\n",
    "\n",
    "c'est-à-dire, pour $1 \\leq x \\leq a$ $$\n",
    "y_{x}=y_{1}-2(x-1)\n",
    "$$\n",
    "\n",
    "Reportant cette expression dans $g(x)=y_{1}+y_{2}+\\cdots+y_{x}$, et observant que $y_{1}=g(1)$, on obtient $$\n",
    "g(x)=x g(1)-2[1+2+\\cdots+(x-1)]=x g(1)-x(x-1)\n",
    "$$\n",
    "\n",
    "La condition $g(a)=0$ donne $a g(1)=a(a-1)$ et donc, finalement, $$ \\boxed {g(x) = x(a-x)}$$\n",
    "Donc $g(5) = 5(10-5) = 25$"
   ]
  },
  {
   "cell_type": "code",
   "execution_count": 14,
   "id": "71614ed9",
   "metadata": {},
   "outputs": [
    {
     "name": "stdout",
     "output_type": "stream",
     "text": [
      "La vraie valeur théorique du thau moyen se trouve dans l’intervalle de confiance à 95%\n"
     ]
    }
   ],
   "source": [
    "# Vérification si la vraie valeur théorique est dans l'intervalle de confiance\n",
    "\n",
    "thau_theorique_1_b = 25\n",
    "if thau_theorique_1_b <= borne_sup_1_b and thau_theorique_1_b >= borne_inf_1_b:\n",
    "    print(\"La vraie valeur théorique du thau moyen se trouve dans l’intervalle de confiance à 95%\")\n",
    "else: \n",
    "    print(\"La vraie valeur théorique du thau moyen ne se trouve pas dans l’intervalle de confiance à 95%\")"
   ]
  },
  {
   "cell_type": "markdown",
   "id": "98231621",
   "metadata": {},
   "source": [
    "On remarque que la valeur théorique est souvent pas dans l'intervalle de confiance à 95%. Cela est dû à notre calcul de tau moyen qui prend en compte que le max est N+1 alors qu'ici il n'y a pas de maximum, par conséquent on trouve une valeur empirique un petit peu inférieur à 25."
   ]
  },
  {
   "cell_type": "markdown",
   "id": "0e053c99",
   "metadata": {},
   "source": [
    "### Q1.(c)"
   ]
  },
  {
   "cell_type": "code",
   "execution_count": 15,
   "id": "07c46b7f",
   "metadata": {},
   "outputs": [
    {
     "name": "stdout",
     "output_type": "stream",
     "text": [
      "p_tilde =  0.999\n"
     ]
    }
   ],
   "source": [
    "# Initialisation des constantes \n",
    "N = 100\n",
    "a = 10\n",
    "p = 0.8\n",
    "M = 1000\n",
    "X_0 = 5\n",
    "\n",
    "# Liste de taille M avec que des X_0\n",
    "res_1_c = [X_0 for i in range(M)]\n",
    "\n",
    "# Liste de taille M avec des booléens qui testent si la ième trajectoire a déjà atteint 'a' ou non (true pour atteint et false pour non atteint)\n",
    "condition_a_1_c = [res_1_c[i] == a for i in range(M)]\n",
    "\n",
    "# Liste de taille M avec des booléens qui testent si la ième trajectoire a déjà atteint 0 ou non (true pour atteint et false pour non atteint)\n",
    "condition_0_1_c = [res_1_c[i] == 0 for i in range(M)]\n",
    "\n",
    "# Liste de taille M avec les tau des M trajectoires (Q1.b)\n",
    "l_tau_1_c = [0 if (res_1_c[i] == a or res_1_c[i] == 0) else (N+1) for i in range(M)]\n",
    "\n",
    "for k in range(N):\n",
    "    L = sim_dis([1-p, p], [-1, 1], M)\n",
    "    for i in range(M):\n",
    "        # On a pas encore atteint 'a' ou 0 pour la ième trajectoire\n",
    "        if not condition_a_1_c[i] and not condition_0_1_c[i]:\n",
    "            res_1_c[i] += L[i]\n",
    "            # On atteint 'a' donc on change True en False dans la liste condition_a à la ième position\n",
    "            if (res_1_c[i] == a):\n",
    "                condition_a_1_c[i] = True\n",
    "                # Pour la Q1.b\n",
    "                l_tau_1_c[i] = k\n",
    "\n",
    "            # On atteint 0 donc on change True en False dans la liste condition_0 à la ième position\n",
    "            if (res_1_c[i] == 0):\n",
    "                condition_0_1_c[i] = True\n",
    "                l_tau_1_c[i] = k\n",
    "\n",
    "\n",
    "# On compte le nombre de True dans la liste condition_a\n",
    "compteur_1_c = condition_a_1_c.count(True)\n",
    "p_tilde_1_c = compteur_1_c / M\n",
    "print(\"p_tilde = \", p_tilde_1_c)"
   ]
  },
  {
   "cell_type": "code",
   "execution_count": 16,
   "id": "693bfa5a",
   "metadata": {},
   "outputs": [
    {
     "name": "stdout",
     "output_type": "stream",
     "text": [
      "Intervalle de confiance à 95% de P(X_tau = a et tau ≤ N) = [ 0.9970409802451226 , 1.0009590197548774 ]\n",
      "La vraie valeur de la probabilité P(X_tau = a | X_0 = 5) ne se trouve pas dans l’intervalle de confiance à 95%\n"
     ]
    }
   ],
   "source": [
    "# Calcul intervalle de confiance à 95% de P(X_tau = a et tau ≤ N)\n",
    "borne_inf_1_c = p_tilde_1_c - 1.96*np.sqrt(p_tilde_1_c*(1-p_tilde_1_c)/M)\n",
    "borne_sup_1_c = p_tilde_1_c + 1.96*np.sqrt(p_tilde_1_c*(1-p_tilde_1_c)/M)\n",
    "print(\"Intervalle de confiance à 95% de P(X_tau = a et tau ≤ N) = [\", borne_inf_1_c, \",\", borne_sup_1_c, \"]\")\n",
    "\n",
    "# Vérification si la vraie valeur de la probabilité est dans l'intervalle de confiance\n",
    "prob_theorique_1_a = 0.99902439024\n",
    "if prob_theorique_1_a <= borne_sup_1_a and prob_theorique_1_a >= borne_inf_1_a:\n",
    "    print(\"La vraie valeur de la probabilité P(X_tau = a | X_0 = 5) se trouve dans l’intervalle de confiance à 95%\")\n",
    "else: \n",
    "    print(\"La vraie valeur de la probabilité P(X_tau = a | X_0 = 5) ne se trouve pas dans l’intervalle de confiance à 95%\")"
   ]
  },
  {
   "cell_type": "code",
   "execution_count": 18,
   "id": "6bd4e0c4",
   "metadata": {},
   "outputs": [
    {
     "name": "stdout",
     "output_type": "stream",
     "text": [
      "tau_moyen =  7.364\n",
      "Intervalle de confiance à 95% de P(X_tau = a et tau ≤ N) = [ 7.117606036291975 , 7.610393963708025 ]\n"
     ]
    }
   ],
   "source": [
    "tau_moyen_1_c = sum(l_tau_1_c) / len(l_tau_1_c)\n",
    "print(\"tau_moyen = \", tau_moyen_1_c)\n",
    "\n",
    "# Calcul intervalle de confiance à 95% du tau_moyen\n",
    "somme_quadratique_1_c = 0\n",
    "for i in range(M):\n",
    "    somme_quadratique_1_c += (l_tau_1_c[i] - tau_moyen_1_c)**2\n",
    "\n",
    "variance_1_c = somme_quadratique_1_c / (M-1)\n",
    "\n",
    "borne_inf_1_c = tau_moyen_1_c - 1.96*np.sqrt(variance_1_c/M)\n",
    "borne_sup_1_c = tau_moyen_1_c + 1.96*np.sqrt(variance_1_c/M)\n",
    "print(\"Intervalle de confiance à 95% de P(X_tau = a et tau ≤ N) = [\", borne_inf_1_c, \",\", borne_sup_1_c, \"]\")"
   ]
  },
  {
   "cell_type": "markdown",
   "id": "045d9b8c",
   "metadata": {},
   "source": [
    "### Q2.(a)"
   ]
  },
  {
   "cell_type": "code",
   "execution_count": 19,
   "id": "86435b74",
   "metadata": {},
   "outputs": [
    {
     "name": "stdout",
     "output_type": "stream",
     "text": [
      "pi_1 = 0.102\n",
      "pi_2 = 0.08\n",
      "pi_3 = 0.052\n",
      "pi_4 = 0.075\n",
      "pi_5 = 0.092\n",
      "pi_6 = 0.089\n",
      "pi_7 = 0.142\n",
      "pi_8 = 0.122\n",
      "pi_9 = 0.138\n",
      "pi_10 = 0.108\n"
     ]
    }
   ],
   "source": [
    "import numpy as np\n",
    "import matplotlib.pyplot as plt\n",
    "\n",
    "# Création de la matrice de transition\n",
    "P = np.random.rand(10, 10)\n",
    "P /= P.sum(axis=1, keepdims=True)\n",
    "\n",
    "# Initialisation des variables\n",
    "N = 1000\n",
    "zone = 0\n",
    "zone_history = np.zeros(N, dtype=int)\n",
    "time_in_each_zone = np.zeros(10, dtype=int)\n",
    "\n",
    "# Simulation de la trajectoire de la chaîne de Markov\n",
    "for t in range(N):\n",
    "    zone_history[t] = zone\n",
    "    time_in_each_zone[zone] += 1\n",
    "    zone = np.random.choice(10, p=P[zone])\n",
    "\n",
    "# Calcul de la fraction de temps passée dans chaque état\n",
    "fraction_of_time_in_each_zone = time_in_each_zone / N\n",
    "\n",
    "# Affichage des résultats\n",
    "for i in range(10):\n",
    "    print(f\"pi_{i+1} = {fraction_of_time_in_each_zone[i]}\")"
   ]
  },
  {
   "cell_type": "markdown",
   "id": "75183bf6",
   "metadata": {},
   "source": [
    "Ce code génère d'abord une matrice de transition avec des coefficients strictement positifs. Ensuite, il initialise l'état de l'étudiant à la zone 1 (index 0 dans le code Python). Il simule ensuite les mouvements de l'étudiant sur le plateau de jeu en utilisant la matrice de transition pour déterminer la zone suivante à chaque étape. Le code enregistre l'histoire des zones et le temps passé dans chaque zone. Enfin, il calcule la fraction de temps passée dans chaque zone et affiche les résultats.\n",
    "\n",
    "On note que les résultats de ce script seront différents à chaque exécution en raison de l'utilisation de nombres aléatoires pour générer la matrice de transition et pour simuler les mouvements de l'étudiant."
   ]
  },
  {
   "cell_type": "markdown",
   "id": "f1cc3764",
   "metadata": {},
   "source": [
    "$\\pi ^{\\bot} P = \\pi ^{\\bot}$, est l'équation d'équilibre ou d'état stationnaire pour une chaîne de Markov. Si une telle solution π existe, cela signifie que la chaîne de Markov a une distribution de probabilité stable.\n",
    "\n",
    "Dans ce cas, chaque $\\pi_{i}$ représente la probabilité à long terme d'être dans l'état $i$. Si vous lancez la simulation de la chaîne de Markov pour un grand nombre de pas, on devrait observer que la fraction de temps passée dans chaque état se rapproche de $\\pi_{i}$. C'est une manifestation de la loi des grands nombres.\n",
    "\n",
    "Cependant, il est important de noter que l'existence d'une telle solution dépend des propriétés de la matrice de transition $P$. Par exemple, pour qu'une distribution stationnaire unique existe, la chaîne de Markov doit être irréductible (tous les états sont accessibles à partir de tous les autres) et apériodique (il n'y a pas de cycles répétitifs), ce qui est le cas ici."
   ]
  },
  {
   "cell_type": "code",
   "execution_count": 20,
   "id": "260e0c69",
   "metadata": {},
   "outputs": [
    {
     "name": "stdout",
     "output_type": "stream",
     "text": [
      "Solution de l'équation d'équilibre : [0.09282632 0.09269045 0.05951093 0.07369742 0.0987841  0.09322543\n",
      " 0.13717525 0.1265912  0.11458108 0.11091782]\n"
     ]
    }
   ],
   "source": [
    "from numpy.linalg import lstsq\n",
    "\n",
    "# Ajouter une contrainte pour la somme des πi = 1\n",
    "P_ = np.append(P.T - np.eye(10), [[1]*10], axis=0)\n",
    "\n",
    "b = np.append(np.zeros(10), 1)\n",
    "\n",
    "# Résoudre l'équation d'équilibre\n",
    "pi, _, _, _ = lstsq(P_, b, rcond=None)\n",
    "\n",
    "print(\"Solution de l'équation d'équilibre :\", pi)"
   ]
  },
  {
   "cell_type": "markdown",
   "id": "9d9ee3e7",
   "metadata": {},
   "source": [
    "Ce code construit d'abord une nouvelle matrice $P\\_$ qui est la transposition de $P$ moins l'identité, avec une ligne supplémentaire pour la contrainte que la somme des $\\pi_{i}$ doit être égale à 1. Le vecteur $b$ est construit de manière à correspondre à cette nouvelle matrice. Ensuite, l'équation d'équilibre est résolue pour trouver $\\pi$.\n",
    "\n",
    "Si on compare les résultats de cette solution avec les fractions de temps calculées dans la simulation de la chaîne de Markov, on observe qu'elles se rapprochent à mesure que N augmente."
   ]
  },
  {
   "cell_type": "markdown",
   "id": "88782503",
   "metadata": {},
   "source": [
    "### Q2.(b)"
   ]
  },
  {
   "cell_type": "markdown",
   "id": "c84c10c9",
   "metadata": {},
   "source": [
    "On se place dans le cas où la zone de départ est la zone 8 par exemple"
   ]
  },
  {
   "cell_type": "code",
   "execution_count": 21,
   "id": "c903e6ef",
   "metadata": {},
   "outputs": [
    {
     "name": "stdout",
     "output_type": "stream",
     "text": [
      "pi_1 = 0.094\n",
      "pi_2 = 0.098\n",
      "pi_3 = 0.062\n",
      "pi_4 = 0.072\n",
      "pi_5 = 0.096\n",
      "pi_6 = 0.086\n",
      "pi_7 = 0.124\n",
      "pi_8 = 0.139\n",
      "pi_9 = 0.115\n",
      "pi_10 = 0.114\n"
     ]
    }
   ],
   "source": [
    "import numpy as np\n",
    "import matplotlib.pyplot as plt\n",
    "\n",
    "# Initialisation des variables\n",
    "N = 1000\n",
    "zone2 = 7\n",
    "zone_history2 = np.zeros(N, dtype=int)\n",
    "time_in_each_zone2 = np.zeros(10, dtype=int)\n",
    "\n",
    "# Simulation de la trajectoire de la chaîne de Markov\n",
    "for t in range(N):\n",
    "    zone_history2[t] = zone2\n",
    "    time_in_each_zone2[zone2] += 1\n",
    "    zone2 = np.random.choice(10, p=P[zone2])\n",
    "\n",
    "# Calcul de la fraction de temps passée dans chaque état\n",
    "fraction_of_time_in_each_zone2 = time_in_each_zone2 / N\n",
    "\n",
    "# Affichage des résultats\n",
    "for i in range(10):\n",
    "    print(f\"pi_{i+1} = {fraction_of_time_in_each_zone2[i]}\")"
   ]
  },
  {
   "cell_type": "markdown",
   "id": "fc9b13d6",
   "metadata": {},
   "source": [
    "On observe que les fractions de temps passées dans les zones sont proches de celles dans le cas précédent, la position de départ n'a donc que peu d'influence sur le temps passés dans chaque zone, et est surtout lié à la matrice de probabilité de passage "
   ]
  },
  {
   "cell_type": "markdown",
   "id": "ad2deb5e",
   "metadata": {},
   "source": [
    "### Q3"
   ]
  },
  {
   "cell_type": "code",
   "execution_count": 22,
   "id": "715d4022",
   "metadata": {},
   "outputs": [
    {
     "data": {
      "image/png": "[encoded data removed]",
      "text/plain": [
       "<Figure size 640x480 with 1 Axes>"
      ]
     },
     "metadata": {},
     "output_type": "display_data"
    },
    {
     "name": "stdout",
     "output_type": "stream",
     "text": [
      "Temps de survie moyen : 21.79 tours\n"
     ]
    }
   ],
   "source": [
    "import random\n",
    "import math\n",
    "import matplotlib.pyplot as plt\n",
    "import numpy as np\n",
    "\n",
    "def sim_dis(p, x, M):\n",
    "    y = []\n",
    "    for i in range(M):\n",
    "        j = 0\n",
    "        S = p[0]\n",
    "        u = np.random.uniform(0, 1)\n",
    "        while u > S:\n",
    "            j += 1\n",
    "            S += p[j]\n",
    "        y.append(x[j])\n",
    "    return y\n",
    "\n",
    "\n",
    "\n",
    "def death_time(N_e, N_s, P, Q, N):\n",
    "    \"\"\"\n",
    "    Calcule le temps de survie de la population d'étudiants.\n",
    "    \"\"\"\n",
    "    # liste de taille N_e avec False par défaut (True = mort)\n",
    "    booleen = []\n",
    "    for i in range(N_e):\n",
    "        booleen.append(False)\n",
    "\n",
    "    # Initialisation de la position des étudiants et du monstre\n",
    "    X = np.ones(N_e, dtype=int)\n",
    "    Y = N_s\n",
    "\n",
    "    # Simulation de la chaîne de Markov\n",
    "    # Vu que X0 = 1 pour les M simulations on peut appliquer directement le code suivant\n",
    "    L = sim_dis(P[0], range(1, N_s+1), N_e)\n",
    "    X = L\n",
    "    for j in range(1,N):\n",
    "\n",
    "        # déplacement chaque joueur\n",
    "        for i in range(N_e):\n",
    "            L = sim_dis(P[X[i]-1], range(1, N_s+1), 1)\n",
    "            X[i] = L[0]\n",
    "\n",
    "            # monstre manger joueur si même case\n",
    "            if Y == X[i]:\n",
    "                booleen[i] = True\n",
    "\n",
    "        # on regarde si tous les joueurs sont morts i.e. booleen est rempli de True\n",
    "        if all(elem == True for elem in booleen):\n",
    "            return j\n",
    "        \n",
    "    return N+1\n",
    "\n",
    "# Définition des paramètres\n",
    "N_e = 5\n",
    "N_s = 10\n",
    "N3 = 100\n",
    "M3 = 100\n",
    "P3 = np.random.rand(N_s, N_s)\n",
    "P3 = P3 / np.sum(P3, axis=1, keepdims=True)\n",
    "Q = np.array([[0.1, 0.1, 0.1, 0.1, 0.1, 0.1, 0.1, 0.1, 0.1, 0.1],\n",
    "              [0.1, 0.1, 0.1, 0.1, 0.1, 0.1, 0.1, 0.1, 0.1, 0.1],\n",
    "              [0.1, 0.1, 0.1, 0.1, 0.1, 0.1, 0.1, 0.1, 0.1, 0.1],\n",
    "              [0.1, 0.1, 0.1, 0.1, 0.1, 0.1, 0.1, 0.1, 0.1, 0.1],\n",
    "              [0.1, 0.1, 0.1, 0.1, 0.1, 0.1, 0.1, 0.1, 0.1, 0.1],\n",
    "              [0.1, 0.1, 0.1, 0.1, 0.1, 0.1, 0.1, 0.1, 0.1, 0.1],\n",
    "              [0.1, 0.1, 0.1, 0.1, 0.1, 0.1, 0.1, 0.1, 0.1, 0.1],\n",
    "              [0.1, 0.1, 0.1, 0.1, 0.1, 0.1, 0.1, 0.1, 0.1, 0.1],\n",
    "              [0.1, 0.1, 0.1, 0.1, 0.1, 0.1, 0.1, 0.1, 0.1, 0.1],\n",
    "              [0, 0, 0, 0, 0, 0, 0, 0, 0, 1]])\n",
    "\n",
    "# Simulation de la chaîne de Markov pour M fois\n",
    "T = np.zeros(M3)\n",
    "for i in range(M3):\n",
    "    T[i] = death_time(N_e, N_s, P3, Q, N3)\n",
    "\n",
    "# Tracé de l'histogramme du temps de survie de la population d'étudiants\n",
    "plt.hist(T, bins=range(0, N3+3))\n",
    "plt.title('Histogramme du temps de survie des étudiants')\n",
    "plt.xlabel('Temps de survie')\n",
    "plt.ylabel('Fréquence')\n",
    "plt.show()\n",
    "\n",
    "# Calcul du temps de survie moyen des populations d'étudiants\n",
    "T_mean = np.mean(T)\n",
    "print('Temps de survie moyen :', T_mean, 'tours')"
   ]
  },
  {
   "cell_type": "markdown",
   "id": "a3d72df0",
   "metadata": {},
   "source": [
    "Pour calculer le temps de survie moyen exact de l'étudiant, il est nécessaire de déterminer la probabilité de survie en fonction du temps.\n",
    "\n",
    "Soit $P\\in \\mathcal{M}_{10,10}(\\mathbb{R})$ la matrice de transition,\n",
    "\n",
    "$\\forall i,j \\in \\left\\{ 1,\\ldots,10 \\right\\}^2, P_{i,j} =$ probabilité de passer de la zone $i$ à la zone $j$\n",
    "\n",
    "Comme le monstre ne bouge pas et reste dans la zone 10 on considère que la zone 10 est un état absorbant. L'étudiant ne peut jamais sortir de cette zone une fois qu'il y est entré.\n",
    "\n",
    "Soit $p_{n} \\in \\mathcal{M}_{10,1}(\\mathbb{R})$ tel que\n",
    "\n",
    "$\\forall i \\in \\left\\{ 1,\\ldots,10 \\right\\}, (p_{n})_{i,1} =$ probabilité que l'étudiant se trouve dans la zone $i$ au $n$-ième tour\n",
    "\n",
    "Soit $i \\in \\left\\{ 1,\\ldots,10 \\right\\}$, on a\n",
    "$$(p_{n})_{i,1} = \\sum_{j=1}^{10} (p_{n-1})_{j,1} P_{j,i} \\space \\space (*)$$\n",
    "\n",
    "On pose alors $q_{n}$ tel que :\n",
    "$$q_{n} = (1-(p_{1})_{10,1})(1-(p_{2})_{10,1}) \\ldots (1-(p_{n-1})_{10,1}) ((p_{n})_{10,1})$$\n",
    "\n",
    "On remarque que $q_{n}$ est la probabilité que le joueur arrive dans la zone 10 au $n$-ième tour sans jamais y être arrivé dans les tours précédents.\n",
    "\n",
    "Le temps de survie moyen est ainsi donné par :\n",
    "$$\\tau_{moyen} = \\sum_{n=0}^{+\\infty} n q_{n}$$\n",
    "\n",
    "Connaissant $(p_{n})_{10,1}$ pour tout $n \\in \\mathbb{N}$ (en utilisant la formule en $(*)$), on peut calculer le temps moyen."
   ]
  },
  {
   "cell_type": "markdown",
   "id": "69a85471",
   "metadata": {},
   "source": [
    "### Q4"
   ]
  },
  {
   "cell_type": "code",
   "execution_count": 24,
   "id": "09819bc1",
   "metadata": {},
   "outputs": [
    {
     "data": {
      "image/png": "[encoded data removed]",
      "text/plain": [
       "<Figure size 640x480 with 1 Axes>"
      ]
     },
     "metadata": {},
     "output_type": "display_data"
    },
    {
     "name": "stdout",
     "output_type": "stream",
     "text": [
      "Temps de survie moyen : 21.96 tours\n"
     ]
    }
   ],
   "source": [
    "def death_time(N_e, N_s, P, Q, N):\n",
    "    \"\"\"\n",
    "    Calcule le temps de survie de la population d'étudiants.\n",
    "    \"\"\"\n",
    "    # liste de taille N_e avec False par défaut (True = mort)\n",
    "    booleen = []\n",
    "    for i in range(N_e):\n",
    "        booleen.append(False)\n",
    "\n",
    "    # Initialisation de la position des étudiants et du monstre\n",
    "    X = np.ones(N_e, dtype=int)\n",
    "    Y = N_s\n",
    "\n",
    "    # Simulation de la chaîne de Markov\n",
    "    # Vu que X0 = 1 pour les M simulations on peut appliquer directement le code suivant\n",
    "    L = sim_dis(P[0], range(1, N_s+1), N_e)\n",
    "    X = L\n",
    "    for j in range(1,N):\n",
    "        # déplacement monstre\n",
    "        Y = sim_dis(Q[Y-1], range(1, N_s+1), 1)[0]\n",
    "\n",
    "        # déplacement chaque joueur\n",
    "        for i in range(N_e):\n",
    "            L = sim_dis(P[X[i]-1], range(1, N_s+1), 1)\n",
    "            X[i] = L[0]\n",
    "\n",
    "            # monstre manger joueur si même case\n",
    "            if Y == X[i]:\n",
    "                booleen[i] = True\n",
    "\n",
    "        # on regarde si tous les joueurs sont morts i.e. booleen est rempli de True\n",
    "        if all(elem == True for elem in booleen):\n",
    "            return j\n",
    "        \n",
    "    return N+1\n",
    "\n",
    "# Définition des paramètres\n",
    "N_e = 5\n",
    "N_s = 10\n",
    "N4 = 100\n",
    "M4 = 100\n",
    "P4 = np.random.rand(N_s, N_s)\n",
    "P4 = P4 / np.sum(P4, axis=1, keepdims=True)\n",
    "Q = np.array([[0.1, 0.05, 0.05, 0.1, 0.05, 0.05, 0.1, 0.05, 0.05, 0.4],\n",
    "              [0.1, 0.05, 0.1, 0.05, 0.1, 0.05, 0.1, 0.05, 0.1, 0.3],\n",
    "              [0.1, 0.05, 0.05, 0.1, 0.05, 0.05, 0.1, 0.05, 0.05, 0.4],\n",
    "              [0.1, 0.05, 0.1, 0.05, 0.1, 0.05, 0.1, 0.05, 0.1, 0.3],\n",
    "              [0.1, 0.05, 0.05, 0.1, 0.05, 0.05, 0.1, 0.05, 0.05, 0.4],\n",
    "              [0.1, 0.05, 0.1, 0.05, 0.1, 0.05, 0.1, 0.05, 0.1, 0.3],\n",
    "              [0.1, 0.05, 0.05, 0.1, 0.05, 0.05, 0.1, 0.05, 0.05, 0.4],\n",
    "              [0.1, 0.05, 0.1, 0.05, 0.1, 0.05, 0.1, 0.05, 0.1, 0.3],\n",
    "              [0.1, 0.05, 0.05, 0.1, 0.05, 0.05, 0.1, 0.05, 0.05, 0.4],\n",
    "              [0.1, 0.05, 0.1, 0.05, 0.1, 0.05, 0.1, 0.05, 0.1, 0.3]])\n",
    "\n",
    "# Simulation de la chaîne de Markov pour M fois\n",
    "T = np.zeros(M4)\n",
    "for i in range(M4):\n",
    "    T[i] = death_time(N_e, N_s, P4, Q, N4)\n",
    "\n",
    "# Tracé de l'histogramme du temps de survie de la population d'étudiants\n",
    "plt.hist(T, bins=range(0, N4+3))\n",
    "plt.title('Histogramme du temps de survie des étudiants')\n",
    "plt.xlabel('Temps de survie')\n",
    "plt.ylabel('Fréquence')\n",
    "plt.show()\n",
    "\n",
    "# Calcul du temps de survie moyen des populations d'étudiants\n",
    "T_mean = np.mean(T)\n",
    "print('Temps de survie moyen :', T_mean, 'tours')"
   ]
  },
  {
   "cell_type": "markdown",
   "id": "322174ee",
   "metadata": {},
   "source": [
    "Soit $f(i,j) = E[$temps de survie avec $J_{0} = i, M_{0} = j]$\n",
    "\n",
    "Soit $P((i,j),(h,l))$ la probabilité de passer de l'état $(J=i, M=j)$ à $(J=h, M=l)$\n",
    "\n",
    "$$P((i,j)(h,l)) = p_{i,j} p_{h,l}$$ où $p_{i,j}$ et $p_{h,l}$ sont les coefficient de la matrice de transition initiale\n",
    "\n",
    "$[J,M]$ est une chaîne de Markov\n",
    "$$f(i,j) = \\sum_{1\\leqslant h,l\\leqslant 10 \\space \\space h \\neq l}^{} f(h,l)P((i,j),(h,l)) + 1$$\n",
    "\n",
    "On résoud le système et on prend en particulier $f(1,10)$ qui est le temps réel de survie"
   ]
  }
 ],
 "metadata": {
  "kernelspec": {
   "display_name": "Python 3 (ipykernel)",
   "language": "python",
   "name": "python3"
  },
  "language_info": {
   "codemirror_mode": {
    "name": "ipython",
    "version": 3
   },
   "file_extension": ".py",
   "mimetype": "text/x-python",
   "name": "python",
   "nbconvert_exporter": "python",
   "pygments_lexer": "ipython3",
   "version": "3.10.9"
  }
 },
 "nbformat": 4,
 "nbformat_minor": 5
}
